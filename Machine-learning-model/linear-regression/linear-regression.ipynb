{
 "cells": [
  {
   "cell_type": "code",
   "execution_count": 1,
   "id": "7138999e",
   "metadata": {
    "_cell_guid": "b1076dfc-b9ad-4769-8c92-a6c4dae69d19",
    "_uuid": "8f2839f25d086af736a60e9eeb907d3b93b6e0e5",
    "execution": {
     "iopub.execute_input": "2021-10-19T11:42:58.606960Z",
     "iopub.status.busy": "2021-10-19T11:42:58.606189Z",
     "iopub.status.idle": "2021-10-19T11:42:58.619980Z",
     "shell.execute_reply": "2021-10-19T11:42:58.620636Z",
     "shell.execute_reply.started": "2021-10-19T11:12:21.509101Z"
    },
    "papermill": {
     "duration": 0.045743,
     "end_time": "2021-10-19T11:42:58.620959",
     "exception": false,
     "start_time": "2021-10-19T11:42:58.575216",
     "status": "completed"
    },
    "tags": []
   },
   "outputs": [
    {
     "name": "stdout",
     "output_type": "stream",
     "text": [
      "/kaggle/input/mumbai-weather-dataset/weather.csv\n"
     ]
    }
   ],
   "source": [
    "# This Python 3 environment comes with many helpful analytics libraries installed\n",
    "# It is defined by the kaggle/python Docker image: https://github.com/kaggle/docker-python\n",
    "# For example, here's several helpful packages to load\n",
    "\n",
    "import numpy as np # linear algebra\n",
    "import pandas as pd # data processing, CSV file I/O (e.g. pd.read_csv)\n",
    "\n",
    "# Input data files are available in the read-only \"../input/\" directory\n",
    "# For example, running this (by clicking run or pressing Shift+Enter) will list all files under the input directory\n",
    "\n",
    "import os\n",
    "for dirname, _, filenames in os.walk('/kaggle/input'):\n",
    "    for filename in filenames:\n",
    "        print(os.path.join(dirname, filename))\n",
    "\n",
    "# You can write up to 20GB to the current directory (/kaggle/working/) that gets preserved as output when you create a version using \"Save & Run All\" \n",
    "# You can also write temporary files to /kaggle/temp/, but they won't be saved outside of the current session"
   ]
  },
  {
   "cell_type": "code",
   "execution_count": 2,
   "id": "d3d3b232",
   "metadata": {
    "execution": {
     "iopub.execute_input": "2021-10-19T11:42:58.652478Z",
     "iopub.status.busy": "2021-10-19T11:42:58.649301Z",
     "iopub.status.idle": "2021-10-19T11:42:59.796085Z",
     "shell.execute_reply": "2021-10-19T11:42:59.796605Z",
     "shell.execute_reply.started": "2021-10-19T11:12:21.519592Z"
    },
    "papermill": {
     "duration": 1.1628,
     "end_time": "2021-10-19T11:42:59.796796",
     "exception": false,
     "start_time": "2021-10-19T11:42:58.633996",
     "status": "completed"
    },
    "tags": []
   },
   "outputs": [],
   "source": [
    "#import libraries\n",
    "import matplotlib.pyplot as plt                                 #for plotting graph of x,y\n",
    "import numpy as np                                             #for using data as array\n",
    "from sklearn import linear_model                              #for model we want to predict by\n",
    "import pandas as pd                                          #for loading csv file data to numpy array\n",
    "from sklearn.metrics import mean_squared_error, r2_score     #for mean error and variance calculation\n",
    "from sklearn.model_selection import train_test_split        #splitting training and testing sets\n",
    "\n",
    "#load dataset\n",
    "dataset=pd.read_csv(\"../input/mumbai-weather-dataset/weather.csv\")\n"
   ]
  },
  {
   "cell_type": "code",
   "execution_count": 3,
   "id": "1777517b",
   "metadata": {
    "execution": {
     "iopub.execute_input": "2021-10-19T11:42:59.824217Z",
     "iopub.status.busy": "2021-10-19T11:42:59.823561Z",
     "iopub.status.idle": "2021-10-19T11:42:59.827886Z",
     "shell.execute_reply": "2021-10-19T11:42:59.828445Z",
     "shell.execute_reply.started": "2021-10-19T11:12:21.543454Z"
    },
    "papermill": {
     "duration": 0.019714,
     "end_time": "2021-10-19T11:42:59.828633",
     "exception": false,
     "start_time": "2021-10-19T11:42:59.808919",
     "status": "completed"
    },
    "tags": []
   },
   "outputs": [],
   "source": [
    "#splitting to independent(x) and dependent(y) variables\n",
    "x=dataset.iloc[:,2].values\n",
    "y=dataset.iloc[:,3].values"
   ]
  },
  {
   "cell_type": "code",
   "execution_count": 4,
   "id": "059edfb2",
   "metadata": {
    "execution": {
     "iopub.execute_input": "2021-10-19T11:42:59.857249Z",
     "iopub.status.busy": "2021-10-19T11:42:59.856592Z",
     "iopub.status.idle": "2021-10-19T11:42:59.862485Z",
     "shell.execute_reply": "2021-10-19T11:42:59.863149Z",
     "shell.execute_reply.started": "2021-10-19T11:12:21.553361Z"
    },
    "papermill": {
     "duration": 0.021696,
     "end_time": "2021-10-19T11:42:59.863321",
     "exception": false,
     "start_time": "2021-10-19T11:42:59.841625",
     "status": "completed"
    },
    "tags": []
   },
   "outputs": [],
   "source": [
    "#train and test data split\n",
    "x_train, x_test, y_train, y_test = train_test_split(x, y, test_size = 1/3, random_state = 0)\n"
   ]
  },
  {
   "cell_type": "code",
   "execution_count": 5,
   "id": "4fc6641c",
   "metadata": {
    "execution": {
     "iopub.execute_input": "2021-10-19T11:42:59.893397Z",
     "iopub.status.busy": "2021-10-19T11:42:59.892741Z",
     "iopub.status.idle": "2021-10-19T11:42:59.895194Z",
     "shell.execute_reply": "2021-10-19T11:42:59.894707Z",
     "shell.execute_reply.started": "2021-10-19T11:12:21.567701Z"
    },
    "papermill": {
     "duration": 0.019464,
     "end_time": "2021-10-19T11:42:59.895332",
     "exception": false,
     "start_time": "2021-10-19T11:42:59.875868",
     "status": "completed"
    },
    "tags": []
   },
   "outputs": [],
   "source": [
    "#reshaping array to convert from 1D to 2D array\n",
    "x_test=x_test.reshape(-1,1)\n",
    "x_train=x_train.reshape(-1,1)"
   ]
  },
  {
   "cell_type": "code",
   "execution_count": 6,
   "id": "bd41267c",
   "metadata": {
    "execution": {
     "iopub.execute_input": "2021-10-19T11:42:59.926919Z",
     "iopub.status.busy": "2021-10-19T11:42:59.926230Z",
     "iopub.status.idle": "2021-10-19T11:42:59.953038Z",
     "shell.execute_reply": "2021-10-19T11:42:59.953578Z",
     "shell.execute_reply.started": "2021-10-19T11:12:21.579797Z"
    },
    "papermill": {
     "duration": 0.042434,
     "end_time": "2021-10-19T11:42:59.953755",
     "exception": false,
     "start_time": "2021-10-19T11:42:59.911321",
     "status": "completed"
    },
    "tags": []
   },
   "outputs": [
    {
     "data": {
      "text/plain": [
       "LinearRegression()"
      ]
     },
     "execution_count": 6,
     "metadata": {},
     "output_type": "execute_result"
    }
   ],
   "source": [
    "#\"lin_reg\" is our model calling model \"LinearRegression()\"\n",
    "lin_reg=linear_model.LinearRegression()\n",
    "#fitting our data in linear regression model\n",
    "lin_reg.fit(x_train,y_train)"
   ]
  },
  {
   "cell_type": "code",
   "execution_count": 7,
   "id": "caf3be55",
   "metadata": {
    "execution": {
     "iopub.execute_input": "2021-10-19T11:42:59.982167Z",
     "iopub.status.busy": "2021-10-19T11:42:59.981496Z",
     "iopub.status.idle": "2021-10-19T11:42:59.989853Z",
     "shell.execute_reply": "2021-10-19T11:42:59.989173Z",
     "shell.execute_reply.started": "2021-10-19T11:12:21.595837Z"
    },
    "papermill": {
     "duration": 0.023691,
     "end_time": "2021-10-19T11:42:59.990007",
     "exception": false,
     "start_time": "2021-10-19T11:42:59.966316",
     "status": "completed"
    },
    "tags": []
   },
   "outputs": [
    {
     "name": "stdout",
     "output_type": "stream",
     "text": [
      "Coefficients:\n",
      " [-4.02872657]\n",
      "Intercept:\n",
      " 194.5221290669885\n"
     ]
    }
   ],
   "source": [
    "#making predictions\n",
    "lin_reg_pred=lin_reg.predict(x_test)\n",
    "\n",
    "#coef_ and intercept_ are coefficients and intercepts resp. for our model\n",
    "print(\"Coefficients:\\n\",lin_reg.coef_)\n",
    "print(\"Intercept:\\n\",lin_reg.intercept_)"
   ]
  },
  {
   "cell_type": "code",
   "execution_count": 8,
   "id": "58c1de99",
   "metadata": {
    "execution": {
     "iopub.execute_input": "2021-10-19T11:43:00.021917Z",
     "iopub.status.busy": "2021-10-19T11:43:00.021114Z",
     "iopub.status.idle": "2021-10-19T11:43:00.023814Z",
     "shell.execute_reply": "2021-10-19T11:43:00.024315Z",
     "shell.execute_reply.started": "2021-10-19T11:12:21.612732Z"
    },
    "papermill": {
     "duration": 0.021219,
     "end_time": "2021-10-19T11:43:00.024483",
     "exception": false,
     "start_time": "2021-10-19T11:43:00.003264",
     "status": "completed"
    },
    "tags": []
   },
   "outputs": [
    {
     "name": "stdout",
     "output_type": "stream",
     "text": [
      "Mean squared error: 4.62\n"
     ]
    }
   ],
   "source": [
    "# The mean squared error\n",
    "print(\"Mean squared error: %.2f\" % mean_squared_error(y_test, lin_reg_pred))"
   ]
  },
  {
   "cell_type": "code",
   "execution_count": 9,
   "id": "9bdd7c50",
   "metadata": {
    "execution": {
     "iopub.execute_input": "2021-10-19T11:43:00.054053Z",
     "iopub.status.busy": "2021-10-19T11:43:00.053365Z",
     "iopub.status.idle": "2021-10-19T11:43:00.058124Z",
     "shell.execute_reply": "2021-10-19T11:43:00.058722Z",
     "shell.execute_reply.started": "2021-10-19T11:12:21.627981Z"
    },
    "papermill": {
     "duration": 0.021472,
     "end_time": "2021-10-19T11:43:00.058897",
     "exception": false,
     "start_time": "2021-10-19T11:43:00.037425",
     "status": "completed"
    },
    "tags": []
   },
   "outputs": [
    {
     "name": "stdout",
     "output_type": "stream",
     "text": [
      "Variance score: 0.87\n"
     ]
    }
   ],
   "source": [
    "# Explained variance score: 1 is perfect prediction\n",
    "print('Variance score: %.2f' % r2_score(y_test, lin_reg_pred))"
   ]
  },
  {
   "cell_type": "code",
   "execution_count": 10,
   "id": "24a6cefa",
   "metadata": {
    "execution": {
     "iopub.execute_input": "2021-10-19T11:43:00.089031Z",
     "iopub.status.busy": "2021-10-19T11:43:00.088326Z",
     "iopub.status.idle": "2021-10-19T11:43:00.306461Z",
     "shell.execute_reply": "2021-10-19T11:43:00.305932Z",
     "shell.execute_reply.started": "2021-10-19T11:12:21.642911Z"
    },
    "papermill": {
     "duration": 0.234243,
     "end_time": "2021-10-19T11:43:00.306624",
     "exception": false,
     "start_time": "2021-10-19T11:43:00.072381",
     "status": "completed"
    },
    "tags": []
   },
   "outputs": [
    {
     "data": {
      "image/png": "[encoded data removed]",
      "text/plain": [
       "<Figure size 432x288 with 1 Axes>"
      ]
     },
     "metadata": {
      "needs_background": "light"
     },
     "output_type": "display_data"
    }
   ],
   "source": [
    "#Plotting the graph for test dataset\n",
    "plt.scatter(x_test, y_test, color = 'red')\n",
    "plt.plot(x_test, lin_reg_pred, color = 'blue')\n",
    "plt.title('Temperature vs Humidity(Test set)')\n",
    "plt.xlabel('Temperature')\n",
    "plt.ylabel('Relative Humidity')\n",
    "plt.show()"
   ]
  },
  {
   "cell_type": "code",
   "execution_count": 11,
   "id": "85777f4e",
   "metadata": {
    "execution": {
     "iopub.execute_input": "2021-10-19T11:43:00.338281Z",
     "iopub.status.busy": "2021-10-19T11:43:00.337667Z",
     "iopub.status.idle": "2021-10-19T11:43:00.341122Z",
     "shell.execute_reply": "2021-10-19T11:43:00.341721Z",
     "shell.execute_reply.started": "2021-10-19T11:12:22.007503Z"
    },
    "papermill": {
     "duration": 0.021039,
     "end_time": "2021-10-19T11:43:00.341890",
     "exception": false,
     "start_time": "2021-10-19T11:43:00.320851",
     "status": "completed"
    },
    "tags": []
   },
   "outputs": [],
   "source": [
    "from sklearn.metrics import mean_squared_error,r2_score,mean_absolute_error\n",
    "from sklearn.metrics import explained_variance_score"
   ]
  },
  {
   "cell_type": "code",
   "execution_count": 12,
   "id": "b59dddbf",
   "metadata": {
    "execution": {
     "iopub.execute_input": "2021-10-19T11:43:00.373452Z",
     "iopub.status.busy": "2021-10-19T11:43:00.372834Z",
     "iopub.status.idle": "2021-10-19T11:43:00.381238Z",
     "shell.execute_reply": "2021-10-19T11:43:00.381797Z",
     "shell.execute_reply.started": "2021-10-19T11:12:22.015709Z"
    },
    "papermill": {
     "duration": 0.025643,
     "end_time": "2021-10-19T11:43:00.381971",
     "exception": false,
     "start_time": "2021-10-19T11:43:00.356328",
     "status": "completed"
    },
    "tags": []
   },
   "outputs": [
    {
     "name": "stdout",
     "output_type": "stream",
     "text": [
      "4.619380186668174\n",
      "2.1492743395546725\n",
      "1.7077021334295808\n",
      "0.8747806848239542\n",
      "0.8738735785210054\n"
     ]
    }
   ],
   "source": [
    "print(mean_squared_error(y_test, lin_reg_pred))\n",
    "print(np.sqrt(mean_squared_error(y_test, lin_reg_pred)))\n",
    "print(mean_absolute_error(y_test, lin_reg_pred))\n",
    "print(explained_variance_score(y_test, lin_reg_pred))\n",
    "print(r2_score(y_test, lin_reg_pred))"
   ]
  },
  {
   "cell_type": "code",
   "execution_count": null,
   "id": "17316b7a",
   "metadata": {
    "papermill": {
     "duration": 0.014482,
     "end_time": "2021-10-19T11:43:00.411105",
     "exception": false,
     "start_time": "2021-10-19T11:43:00.396623",
     "status": "completed"
    },
    "tags": []
   },
   "outputs": [],
   "source": []
  }
 ],
 "metadata": {
  "kernelspec": {
   "display_name": "Python 3",
   "language": "python",
   "name": "python3"
  },
  "language_info": {
   "codemirror_mode": {
    "name": "ipython",
    "version": 3
   },
   "file_extension": ".py",
   "mimetype": "text/x-python",
   "name": "python",
   "nbconvert_exporter": "python",
   "pygments_lexer": "ipython3",
   "version": "3.7.10"
  },
  "papermill": {
   "default_parameters": {},
   "duration": 12.64493,
   "end_time": "2021-10-19T11:43:01.137124",
   "environment_variables": {},
   "exception": null,
   "input_path": "__notebook__.ipynb",
   "output_path": "__notebook__.ipynb",
   "parameters": {},
   "start_time": "2021-10-19T11:42:48.492194",
   "version": "2.3.3"
  }
 },
 "nbformat": 4,
 "nbformat_minor": 5
}
