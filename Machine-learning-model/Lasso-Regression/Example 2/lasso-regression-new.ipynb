{
 "cells": [
  {
   "cell_type": "code",
   "execution_count": 1,
   "id": "ca563d18",
   "metadata": {
    "_cell_guid": "b1076dfc-b9ad-4769-8c92-a6c4dae69d19",
    "_uuid": "8f2839f25d086af736a60e9eeb907d3b93b6e0e5",
    "execution": {
     "iopub.execute_input": "2021-10-19T11:40:41.860610Z",
     "iopub.status.busy": "2021-10-19T11:40:41.859324Z",
     "iopub.status.idle": "2021-10-19T11:40:41.871426Z",
     "shell.execute_reply": "2021-10-19T11:40:41.871964Z",
     "shell.execute_reply.started": "2021-10-19T11:28:22.167855Z"
    },
    "papermill": {
     "duration": 0.032492,
     "end_time": "2021-10-19T11:40:41.872279",
     "exception": false,
     "start_time": "2021-10-19T11:40:41.839787",
     "status": "completed"
    },
    "tags": []
   },
   "outputs": [],
   "source": [
    "# This Python 3 environment comes with many helpful analytics libraries installed\n",
    "# It is defined by the kaggle/python Docker image: https://github.com/kaggle/docker-python\n",
    "# For example, here's several helpful packages to load\n",
    "\n",
    "import numpy as np # linear algebra\n",
    "import pandas as pd # data processing, CSV file I/O (e.g. pd.read_csv)\n",
    "\n",
    "# Input data files are available in the read-only \"../input/\" directory\n",
    "# For example, running this (by clicking run or pressing Shift+Enter) will list all files under the input directory\n",
    "\n",
    "import os\n",
    "for dirname, _, filenames in os.walk('/kaggle/input'):\n",
    "    for filename in filenames:\n",
    "        print(os.path.join(dirname, filename))\n",
    "\n",
    "# You can write up to 20GB to the current directory (/kaggle/working/) that gets preserved as output when you create a version using \"Save & Run All\" \n",
    "# You can also write temporary files to /kaggle/temp/, but they won't be saved outside of the current session"
   ]
  },
  {
   "cell_type": "code",
   "execution_count": 2,
   "id": "675643d6",
   "metadata": {
    "execution": {
     "iopub.execute_input": "2021-10-19T11:40:41.903344Z",
     "iopub.status.busy": "2021-10-19T11:40:41.902405Z",
     "iopub.status.idle": "2021-10-19T11:40:42.912835Z",
     "shell.execute_reply": "2021-10-19T11:40:42.913381Z",
     "shell.execute_reply.started": "2021-10-19T11:28:22.202634Z"
    },
    "papermill": {
     "duration": 1.028281,
     "end_time": "2021-10-19T11:40:42.913578",
     "exception": false,
     "start_time": "2021-10-19T11:40:41.885297",
     "status": "completed"
    },
    "tags": []
   },
   "outputs": [],
   "source": [
    "import pandas as pd\n",
    "import numpy as np\n",
    "import sklearn\n",
    "import matplotlib.pyplot as plt\n",
    "from sklearn import datasets"
   ]
  },
  {
   "cell_type": "code",
   "execution_count": 3,
   "id": "137df7aa",
   "metadata": {
    "execution": {
     "iopub.execute_input": "2021-10-19T11:40:42.943585Z",
     "iopub.status.busy": "2021-10-19T11:40:42.941944Z",
     "iopub.status.idle": "2021-10-19T11:40:42.958182Z",
     "shell.execute_reply": "2021-10-19T11:40:42.958669Z",
     "shell.execute_reply.started": "2021-10-19T11:28:23.20615Z"
    },
    "papermill": {
     "duration": 0.032355,
     "end_time": "2021-10-19T11:40:42.958854",
     "exception": false,
     "start_time": "2021-10-19T11:40:42.926499",
     "status": "completed"
    },
    "tags": []
   },
   "outputs": [],
   "source": [
    "boston_data = datasets.load_boston()\n",
    "# print(boston_data.DESCR) #DESCR is the full description of the dataset"
   ]
  },
  {
   "cell_type": "code",
   "execution_count": 4,
   "id": "198e0eca",
   "metadata": {
    "execution": {
     "iopub.execute_input": "2021-10-19T11:40:42.992841Z",
     "iopub.status.busy": "2021-10-19T11:40:42.992186Z",
     "iopub.status.idle": "2021-10-19T11:40:43.034876Z",
     "shell.execute_reply": "2021-10-19T11:40:43.035402Z",
     "shell.execute_reply.started": "2021-10-19T11:28:23.226877Z"
    },
    "papermill": {
     "duration": 0.064129,
     "end_time": "2021-10-19T11:40:43.035587",
     "exception": false,
     "start_time": "2021-10-19T11:40:42.971458",
     "status": "completed"
    },
    "tags": []
   },
   "outputs": [
    {
     "data": {
      "text/html": [
       "<div>\n",
       "<style scoped>\n",
       "    .dataframe tbody tr th:only-of-type {\n",
       "        vertical-align: middle;\n",
       "    }\n",
       "\n",
       "    .dataframe tbody tr th {\n",
       "        vertical-align: top;\n",
       "    }\n",
       "\n",
       "    .dataframe thead th {\n",
       "        text-align: right;\n",
       "    }\n",
       "</style>\n",
       "<table border=\"1\" class=\"dataframe\">\n",
       "  <thead>\n",
       "    <tr style=\"text-align: right;\">\n",
       "      <th></th>\n",
       "      <th>CRIM</th>\n",
       "      <th>ZN</th>\n",
       "      <th>INDUS</th>\n",
       "      <th>CHAS</th>\n",
       "      <th>NOX</th>\n",
       "      <th>RM</th>\n",
       "      <th>AGE</th>\n",
       "      <th>DIS</th>\n",
       "      <th>RAD</th>\n",
       "      <th>TAX</th>\n",
       "      <th>PTRATIO</th>\n",
       "      <th>B</th>\n",
       "      <th>LSTAT</th>\n",
       "      <th>House Price</th>\n",
       "    </tr>\n",
       "  </thead>\n",
       "  <tbody>\n",
       "    <tr>\n",
       "      <th>0</th>\n",
       "      <td>0.00632</td>\n",
       "      <td>18.0</td>\n",
       "      <td>2.31</td>\n",
       "      <td>0.0</td>\n",
       "      <td>0.538</td>\n",
       "      <td>6.575</td>\n",
       "      <td>65.2</td>\n",
       "      <td>4.0900</td>\n",
       "      <td>1.0</td>\n",
       "      <td>296.0</td>\n",
       "      <td>15.3</td>\n",
       "      <td>396.90</td>\n",
       "      <td>4.98</td>\n",
       "      <td>24.0</td>\n",
       "    </tr>\n",
       "    <tr>\n",
       "      <th>1</th>\n",
       "      <td>0.02731</td>\n",
       "      <td>0.0</td>\n",
       "      <td>7.07</td>\n",
       "      <td>0.0</td>\n",
       "      <td>0.469</td>\n",
       "      <td>6.421</td>\n",
       "      <td>78.9</td>\n",
       "      <td>4.9671</td>\n",
       "      <td>2.0</td>\n",
       "      <td>242.0</td>\n",
       "      <td>17.8</td>\n",
       "      <td>396.90</td>\n",
       "      <td>9.14</td>\n",
       "      <td>21.6</td>\n",
       "    </tr>\n",
       "    <tr>\n",
       "      <th>2</th>\n",
       "      <td>0.02729</td>\n",
       "      <td>0.0</td>\n",
       "      <td>7.07</td>\n",
       "      <td>0.0</td>\n",
       "      <td>0.469</td>\n",
       "      <td>7.185</td>\n",
       "      <td>61.1</td>\n",
       "      <td>4.9671</td>\n",
       "      <td>2.0</td>\n",
       "      <td>242.0</td>\n",
       "      <td>17.8</td>\n",
       "      <td>392.83</td>\n",
       "      <td>4.03</td>\n",
       "      <td>34.7</td>\n",
       "    </tr>\n",
       "    <tr>\n",
       "      <th>3</th>\n",
       "      <td>0.03237</td>\n",
       "      <td>0.0</td>\n",
       "      <td>2.18</td>\n",
       "      <td>0.0</td>\n",
       "      <td>0.458</td>\n",
       "      <td>6.998</td>\n",
       "      <td>45.8</td>\n",
       "      <td>6.0622</td>\n",
       "      <td>3.0</td>\n",
       "      <td>222.0</td>\n",
       "      <td>18.7</td>\n",
       "      <td>394.63</td>\n",
       "      <td>2.94</td>\n",
       "      <td>33.4</td>\n",
       "    </tr>\n",
       "    <tr>\n",
       "      <th>4</th>\n",
       "      <td>0.06905</td>\n",
       "      <td>0.0</td>\n",
       "      <td>2.18</td>\n",
       "      <td>0.0</td>\n",
       "      <td>0.458</td>\n",
       "      <td>7.147</td>\n",
       "      <td>54.2</td>\n",
       "      <td>6.0622</td>\n",
       "      <td>3.0</td>\n",
       "      <td>222.0</td>\n",
       "      <td>18.7</td>\n",
       "      <td>396.90</td>\n",
       "      <td>5.33</td>\n",
       "      <td>36.2</td>\n",
       "    </tr>\n",
       "  </tbody>\n",
       "</table>\n",
       "</div>"
      ],
      "text/plain": [
       "      CRIM    ZN  INDUS  CHAS    NOX     RM   AGE     DIS  RAD    TAX  \\\n",
       "0  0.00632  18.0   2.31   0.0  0.538  6.575  65.2  4.0900  1.0  296.0   \n",
       "1  0.02731   0.0   7.07   0.0  0.469  6.421  78.9  4.9671  2.0  242.0   \n",
       "2  0.02729   0.0   7.07   0.0  0.469  7.185  61.1  4.9671  2.0  242.0   \n",
       "3  0.03237   0.0   2.18   0.0  0.458  6.998  45.8  6.0622  3.0  222.0   \n",
       "4  0.06905   0.0   2.18   0.0  0.458  7.147  54.2  6.0622  3.0  222.0   \n",
       "\n",
       "   PTRATIO       B  LSTAT  House Price  \n",
       "0     15.3  396.90   4.98         24.0  \n",
       "1     17.8  396.90   9.14         21.6  \n",
       "2     17.8  392.83   4.03         34.7  \n",
       "3     18.7  394.63   2.94         33.4  \n",
       "4     18.7  396.90   5.33         36.2  "
      ]
     },
     "execution_count": 4,
     "metadata": {},
     "output_type": "execute_result"
    }
   ],
   "source": [
    "boston_df = pd.DataFrame(boston_data.data)\n",
    "boston_df.columns = boston_data.feature_names\n",
    "boston_df_target = np.asarray(boston_data.target)\n",
    "boston_df['House Price'] = pd.Series(boston_df_target)\n",
    "X = boston_df.iloc[:, :-1]\n",
    "Y = boston_df.iloc[:, -1]\n",
    "boston_df.head()"
   ]
  },
  {
   "cell_type": "code",
   "execution_count": 5,
   "id": "1f0e4db3",
   "metadata": {
    "execution": {
     "iopub.execute_input": "2021-10-19T11:40:43.068638Z",
     "iopub.status.busy": "2021-10-19T11:40:43.067960Z",
     "iopub.status.idle": "2021-10-19T11:40:43.123409Z",
     "shell.execute_reply": "2021-10-19T11:40:43.123906Z",
     "shell.execute_reply.started": "2021-10-19T11:28:23.281522Z"
    },
    "papermill": {
     "duration": 0.075156,
     "end_time": "2021-10-19T11:40:43.124121",
     "exception": false,
     "start_time": "2021-10-19T11:40:43.048965",
     "status": "completed"
    },
    "tags": []
   },
   "outputs": [
    {
     "name": "stdout",
     "output_type": "stream",
     "text": [
      "Shape of train data of X = (379, 13) and Y = (379,) \n",
      "Shape of test data of X = (127, 13) and Y = (127,)\n"
     ]
    }
   ],
   "source": [
    "#splittling the data\n",
    "from sklearn.model_selection import train_test_split\n",
    "x_train, x_test, y_train, y_test = train_test_split(X, Y, test_size = 0.25)\n",
    "\n",
    "print(\"Shape of train data of X = % s and Y = % s \"%(x_train.shape, y_train.shape)) \n",
    "print(\"Shape of test data of X = % s and Y = % s\"%(x_test.shape, y_test.shape))"
   ]
  },
  {
   "cell_type": "code",
   "execution_count": 6,
   "id": "ddbe49e9",
   "metadata": {
    "execution": {
     "iopub.execute_input": "2021-10-19T11:40:43.155623Z",
     "iopub.status.busy": "2021-10-19T11:40:43.154897Z",
     "iopub.status.idle": "2021-10-19T11:40:43.157804Z",
     "shell.execute_reply": "2021-10-19T11:40:43.157259Z",
     "shell.execute_reply.started": "2021-10-19T11:28:23.341497Z"
    },
    "papermill": {
     "duration": 0.020202,
     "end_time": "2021-10-19T11:40:43.157962",
     "exception": false,
     "start_time": "2021-10-19T11:40:43.137760",
     "status": "completed"
    },
    "tags": []
   },
   "outputs": [],
   "source": [
    "#As we can observe that lots of the variables have an insignificant coefficient, these coefficients did not contribute to the model \n",
    "# very much and need to regulate or even eliminate some of these variables."
   ]
  },
  {
   "cell_type": "code",
   "execution_count": 7,
   "id": "54f4bfa0",
   "metadata": {
    "execution": {
     "iopub.execute_input": "2021-10-19T11:40:43.189631Z",
     "iopub.status.busy": "2021-10-19T11:40:43.188948Z",
     "iopub.status.idle": "2021-10-19T11:40:43.191168Z",
     "shell.execute_reply": "2021-10-19T11:40:43.191743Z",
     "shell.execute_reply.started": "2021-10-19T11:28:23.346661Z"
    },
    "papermill": {
     "duration": 0.020383,
     "end_time": "2021-10-19T11:40:43.191929",
     "exception": false,
     "start_time": "2021-10-19T11:40:43.171546",
     "status": "completed"
    },
    "tags": []
   },
   "outputs": [],
   "source": [
    "# In Lasso Regression, we add Mean Absolute Value of coefficients.\n",
    "# Lasso regression can completely eliminate the variable by reducing its coefficient value to 0."
   ]
  },
  {
   "cell_type": "code",
   "execution_count": 8,
   "id": "bdba18a8",
   "metadata": {
    "execution": {
     "iopub.execute_input": "2021-10-19T11:40:43.222206Z",
     "iopub.status.busy": "2021-10-19T11:40:43.221555Z",
     "iopub.status.idle": "2021-10-19T11:40:43.316024Z",
     "shell.execute_reply": "2021-10-19T11:40:43.315302Z",
     "shell.execute_reply.started": "2021-10-19T11:28:23.35983Z"
    },
    "papermill": {
     "duration": 0.110797,
     "end_time": "2021-10-19T11:40:43.316184",
     "exception": false,
     "start_time": "2021-10-19T11:40:43.205387",
     "status": "completed"
    },
    "tags": []
   },
   "outputs": [],
   "source": [
    "from sklearn.linear_model import Lasso\n",
    "lasso = Lasso()\n",
    "lasso.fit(x_train, y_train)\n",
    "y_pred1 = lasso.predict(x_test)"
   ]
  },
  {
   "cell_type": "code",
   "execution_count": 9,
   "id": "18e5551c",
   "metadata": {
    "execution": {
     "iopub.execute_input": "2021-10-19T11:40:43.351066Z",
     "iopub.status.busy": "2021-10-19T11:40:43.350304Z",
     "iopub.status.idle": "2021-10-19T11:40:43.354498Z",
     "shell.execute_reply": "2021-10-19T11:40:43.353878Z",
     "shell.execute_reply.started": "2021-10-19T11:28:23.460227Z"
    },
    "papermill": {
     "duration": 0.024637,
     "end_time": "2021-10-19T11:40:43.354653",
     "exception": false,
     "start_time": "2021-10-19T11:40:43.330016",
     "status": "completed"
    },
    "tags": []
   },
   "outputs": [
    {
     "name": "stdout",
     "output_type": "stream",
     "text": [
      "Mean Squared Error:  48.77294475883394\n"
     ]
    }
   ],
   "source": [
    "##Calculating the Mean-Squared Error(MSE):\n",
    "mse1 = np.mean((y_pred1 - y_test)**2)\n",
    "print(\"Mean Squared Error: \", mse1)"
   ]
  },
  {
   "cell_type": "code",
   "execution_count": 10,
   "id": "1096dd71",
   "metadata": {
    "execution": {
     "iopub.execute_input": "2021-10-19T11:40:43.389113Z",
     "iopub.status.busy": "2021-10-19T11:40:43.388403Z",
     "iopub.status.idle": "2021-10-19T11:40:43.391024Z",
     "shell.execute_reply": "2021-10-19T11:40:43.390448Z",
     "shell.execute_reply.started": "2021-10-19T11:28:23.469607Z"
    },
    "papermill": {
     "duration": 0.022036,
     "end_time": "2021-10-19T11:40:43.391171",
     "exception": false,
     "start_time": "2021-10-19T11:40:43.369135",
     "status": "completed"
    },
    "tags": []
   },
   "outputs": [],
   "source": [
    "from sklearn.metrics import mean_squared_error,r2_score,mean_absolute_error\n",
    "from sklearn.metrics import explained_variance_score"
   ]
  },
  {
   "cell_type": "code",
   "execution_count": 11,
   "id": "3cc83f0c",
   "metadata": {
    "execution": {
     "iopub.execute_input": "2021-10-19T11:40:43.427462Z",
     "iopub.status.busy": "2021-10-19T11:40:43.426728Z",
     "iopub.status.idle": "2021-10-19T11:40:43.431305Z",
     "shell.execute_reply": "2021-10-19T11:40:43.431840Z",
     "shell.execute_reply.started": "2021-10-19T11:28:23.47988Z"
    },
    "papermill": {
     "duration": 0.0264,
     "end_time": "2021-10-19T11:40:43.432058",
     "exception": false,
     "start_time": "2021-10-19T11:40:43.405658",
     "status": "completed"
    },
    "tags": []
   },
   "outputs": [
    {
     "name": "stdout",
     "output_type": "stream",
     "text": [
      "6.983762936901133\n",
      "4.779780409095173\n",
      "0.6410139582509529\n",
      "0.6046532590844487\n"
     ]
    }
   ],
   "source": [
    "# print(mean_squared_error(y_test,y_pred1))\n",
    "print(np.sqrt(mean_squared_error(y_test,y_pred1)))\n",
    "print(mean_absolute_error(y_test,y_pred1))\n",
    "print(explained_variance_score(y_test,y_pred1))\n",
    "print(r2_score(y_test,y_pred1))"
   ]
  },
  {
   "cell_type": "code",
   "execution_count": 12,
   "id": "51522386",
   "metadata": {
    "execution": {
     "iopub.execute_input": "2021-10-19T11:40:43.472569Z",
     "iopub.status.busy": "2021-10-19T11:40:43.471885Z",
     "iopub.status.idle": "2021-10-19T11:40:43.475902Z",
     "shell.execute_reply": "2021-10-19T11:40:43.475382Z",
     "shell.execute_reply.started": "2021-10-19T11:28:23.496846Z"
    },
    "papermill": {
     "duration": 0.02921,
     "end_time": "2021-10-19T11:40:43.476080",
     "exception": false,
     "start_time": "2021-10-19T11:40:43.446870",
     "status": "completed"
    },
    "tags": []
   },
   "outputs": [
    {
     "name": "stdout",
     "output_type": "stream",
     "text": [
      "    Columns  Coefficient Estimate\n",
      "0      CRIM             -0.050817\n",
      "1        ZN              0.039043\n",
      "2     INDUS             -0.000000\n",
      "3      CHAS              0.000000\n",
      "4       NOX             -0.000000\n",
      "5        RM              0.087947\n",
      "6       AGE              0.032541\n",
      "7       DIS             -0.324632\n",
      "8       RAD              0.268407\n",
      "9       TAX             -0.013148\n",
      "10  PTRATIO             -0.514617\n",
      "11        B              0.006949\n",
      "12    LSTAT             -0.834208\n"
     ]
    }
   ],
   "source": [
    "\"\"\"putting together the coefficient and their corresponding variable names\"\"\"\n",
    "lasso_coef = pd.DataFrame()\n",
    "lasso_coef['Columns'] = x_train.columns\n",
    "lasso_coef['Coefficient Estimate'] = pd.Series(lasso.coef_)\n",
    "print(lasso_coef)"
   ]
  },
  {
   "cell_type": "code",
   "execution_count": 13,
   "id": "a6e15158",
   "metadata": {
    "execution": {
     "iopub.execute_input": "2021-10-19T11:40:43.641212Z",
     "iopub.status.busy": "2021-10-19T11:40:43.640073Z",
     "iopub.status.idle": "2021-10-19T11:40:43.924636Z",
     "shell.execute_reply": "2021-10-19T11:40:43.924112Z",
     "shell.execute_reply.started": "2021-10-19T11:28:23.516758Z"
    },
    "papermill": {
     "duration": 0.434108,
     "end_time": "2021-10-19T11:40:43.924778",
     "exception": false,
     "start_time": "2021-10-19T11:40:43.490670",
     "status": "completed"
    },
    "tags": []
   },
   "outputs": [
    {
     "data": {
      "image/png": "[encoded data removed]",
      "text/plain": [
       "<Figure size 1440x720 with 1 Axes>"
      ]
     },
     "metadata": {
      "needs_background": "light"
     },
     "output_type": "display_data"
    }
   ],
   "source": [
    "#plotting the coefficient score\n",
    "fig, ax = plt.subplots(figsize=(20,10))\n",
    "color =['tab:gray','tab:blue','tab:orange','tab:green','tab:red','tab:purple','tab:brown',  \n",
    "        'tab:pink','tab:gray','tab:olive','tab:cyan','tab:orange','tab:green','tab:blue','tab:olive'] \n",
    "\n",
    "ax.bar(lasso_coef[\"Columns\"],  \n",
    "lasso_coef['Coefficient Estimate'],  \n",
    "color = color) \n",
    "  \n",
    "ax.spines['bottom'].set_position('zero') \n",
    "  \n",
    "plt.style.use('ggplot') \n",
    "plt.show()"
   ]
  },
  {
   "cell_type": "code",
   "execution_count": 14,
   "id": "00d6e180",
   "metadata": {
    "execution": {
     "iopub.execute_input": "2021-10-19T11:40:43.959779Z",
     "iopub.status.busy": "2021-10-19T11:40:43.959106Z",
     "iopub.status.idle": "2021-10-19T11:40:43.961166Z",
     "shell.execute_reply": "2021-10-19T11:40:43.961720Z",
     "shell.execute_reply.started": "2021-10-19T11:28:23.923907Z"
    },
    "papermill": {
     "duration": 0.021844,
     "end_time": "2021-10-19T11:40:43.961895",
     "exception": false,
     "start_time": "2021-10-19T11:40:43.940051",
     "status": "completed"
    },
    "tags": []
   },
   "outputs": [],
   "source": [
    "# Lasso Regression will try to add one feature at a time, and if the new feature dosen't \n",
    "# improves the fit enough to overweigh penalty term including that feature, then it won't be added."
   ]
  }
 ],
 "metadata": {
  "kernelspec": {
   "display_name": "Python 3",
   "language": "python",
   "name": "python3"
  },
  "language_info": {
   "codemirror_mode": {
    "name": "ipython",
    "version": 3
   },
   "file_extension": ".py",
   "mimetype": "text/x-python",
   "name": "python",
   "nbconvert_exporter": "python",
   "pygments_lexer": "ipython3",
   "version": "3.7.10"
  },
  "papermill": {
   "default_parameters": {},
   "duration": 12.624885,
   "end_time": "2021-10-19T11:40:44.687420",
   "environment_variables": {},
   "exception": null,
   "input_path": "__notebook__.ipynb",
   "output_path": "__notebook__.ipynb",
   "parameters": {},
   "start_time": "2021-10-19T11:40:32.062535",
   "version": "2.3.3"
  }
 },
 "nbformat": 4,
 "nbformat_minor": 5
}
